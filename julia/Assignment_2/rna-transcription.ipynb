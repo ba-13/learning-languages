{
    "cells": [
        {
            "cell_type": "markdown",
            "metadata": {},
            "source": [
                "# RNA Transcription\n",
                "\n",
                "Given a DNA strand, return its RNA complement (per RNA transcription).\n",
                "\n",
                "Both DNA and RNA strands are a sequence of nucleotides.\n",
                "\n",
                "The four nucleotides found in DNA are adenine (**A**), cytosine (**C**),\n",
                "guanine (**G**) and thymine (**T**).\n",
                "\n",
                "The four nucleotides found in RNA are adenine (**A**), cytosine (**C**),\n",
                "guanine (**G**) and uracil (**U**).\n",
                "\n",
                "Given a DNA strand, its transcribed RNA strand is formed by replacing\n",
                "each nucleotide with its complement:\n",
                "\n",
                "* `G` -> `C`\n",
                "* `C` -> `G`\n",
                "* `T` -> `A`\n",
                "* `A` -> `U`\n",
                "\n",
                "## Source\n",
                "\n",
                "Hyperphysics [http://hyperphysics.phy-astr.gsu.edu/hbase/Organic/transcription.html](http://hyperphysics.phy-astr.gsu.edu/hbase/Organic/transcription.html)\n",
                "\n",
                "## Version compatibility\n",
                "This exercise has been tested on Julia versions >=1.0.\n",
                "\n",
                "## Submitting Incomplete Solutions\n",
                "It's possible to submit an incomplete solution so you can see how others have completed the exercise."
            ]
        },
        {
            "cell_type": "markdown",
            "metadata": {},
            "source": [
                "## Your solution"
            ]
        },
        {
            "cell_type": "code",
            "execution_count": 18,
            "metadata": {},
            "outputs": [
                {
                    "output_type": "execute_result",
                    "data": {
                        "text/plain": [
                            "true"
                        ]
                    },
                    "metadata": {},
                    "execution_count": 18
                }
            ],
            "source": [
                "# submit\n",
                "function to_rna(dna::AbstractString)\n",
                "    ref = Dict{Char,Char}('A' => 'U', 'T' => 'A', 'C' => 'G', 'G' => 'C')\n",
                "    rna = \"\"\n",
                "    for ch in dna\n",
                "        if ch ∉ keys(ref) throw(ErrorException(\"Not a valid DNA nucleotide\"))\n",
                "        else\n",
                "            rna *= ref[ch]\n",
                "        end\n",
                "    end\n",
                "rna\n",
                "end\n",
                "\n",
                "to_rna(\"ACGTGGTCTTAA\") == \"UGCACCAGAAUU\""
            ]
        },
        {
            "cell_type": "markdown",
            "metadata": {},
            "source": [
                "## Test suite"
            ]
        },
        {
            "cell_type": "code",
            "execution_count": 19,
            "metadata": {},
            "outputs": [
                {
                    "output_type": "stream",
                    "name": "stdout",
                    "text": [
                        "\u001b[37m\u001b[1mTest Summary:         | \u001b[22m\u001b[39m\u001b[32m\u001b[1mPass  \u001b[22m\u001b[39m\u001b[36m\u001b[1mTotal\u001b[22m\u001b[39m\nbasic transformations | \u001b[32m   5  \u001b[39m\u001b[36m    5\u001b[39m\n\u001b[37m\u001b[1mTest Summary:  | \u001b[22m\u001b[39m\u001b[32m\u001b[1mPass  \u001b[22m\u001b[39m\u001b[36m\u001b[1mTotal\u001b[22m\u001b[39m\nrna complement | \u001b[32m   1  \u001b[39m\u001b[36m    1\u001b[39m\n\u001b[37m\u001b[1mTest Summary:  | \u001b[22m\u001b[39m\u001b[32m\u001b[1mPass  \u001b[22m\u001b[39m\u001b[36m\u001b[1mTotal\u001b[22m\u001b[39m\nerror handling | \u001b[32m   3  \u001b[39m\u001b[36m    3\u001b[39m\n"
                    ]
                },
                {
                    "output_type": "execute_result",
                    "data": {
                        "text/plain": [
                            "Test.DefaultTestSet(\"error handling\", Any[Test.DefaultTestSet(\"dna correctly handles invalid input\", Any[], 1, false, false), Test.DefaultTestSet(\"dna correctly handles completely invalid input\", Any[], 1, false, false), Test.DefaultTestSet(\"dna correctly handles partially invalid input\", Any[], 1, false, false)], 0, false, false)"
                        ]
                    },
                    "metadata": {},
                    "execution_count": 19
                }
            ],
            "source": [
                "using Test\n",
                "\n",
                "# include(\"rna-transcription.jl\")\n",
                "\n",
                "@testset \"basic transformations\" begin\n",
                "    @testset \"empty rna sequence\" begin\n",
                "        @test to_rna(\"\") == \"\"\n",
                "    end\n",
                "\n",
                "    @testset \"rna complement of cytosine is guanine\" begin\n",
                "        @test to_rna(\"C\") == \"G\"\n",
                "    end\n",
                "\n",
                "    @testset \"rna complement of guanine is cytosine\" begin\n",
                "        @test to_rna(\"G\") == \"C\"\n",
                "    end\n",
                "\n",
                "    @testset \"rna complement of thymine is adenine\" begin\n",
                "        @test to_rna(\"T\") == \"A\"\n",
                "    end\n",
                "\n",
                "    @testset \"rna complement of adenine is uracil\" begin\n",
                "        @test to_rna(\"A\") == \"U\"\n",
                "    end\n",
                "end\n",
                "\n",
                "@testset \"rna complement\" begin\n",
                "    @test to_rna(\"ACGTGGTCTTAA\") == \"UGCACCAGAAUU\"\n",
                "end\n",
                "\n",
                "@testset \"error handling\" begin\n",
                "    @testset \"dna correctly handles invalid input\" begin\n",
                "        @test_throws ErrorException to_rna(\"U\")\n",
                "    end\n",
                "\n",
                "    @testset \"dna correctly handles completely invalid input\" begin\n",
                "        @test_throws ErrorException to_rna(\"XXX\")\n",
                "    end\n",
                "\n",
                "    @testset \"dna correctly handles partially invalid input\" begin\n",
                "        @test_throws ErrorException to_rna(\"ACGTXXXCTTAA\")\n",
                "    end\n",
                "end"
            ]
        },
        {
            "cell_type": "markdown",
            "metadata": {},
            "source": [
                "## Prepare submission\n",
                "To submit your exercise, you need to save your solution in a file called `rna-transcription.jl` before using the CLI.\n",
                "You can either create it manually or use the following functions, which will automatically write every notebook cell that starts with `# submit` to the file `rna-transcription.jl`.\n"
            ]
        },
        {
            "cell_type": "code",
            "execution_count": null,
            "metadata": {},
            "outputs": [],
            "source": [
                "# using Pkg; Pkg.add(\"Exercism\")\n",
                "# using Exercism\n",
                "# Exercism.create_submission(\"rna-transcription\")"
            ]
        }
    ],
    "metadata": {
        "kernelspec": {
            "display_name": "Julia 1.6.0",
            "language": "julia",
            "name": "julia-1.6"
        },
        "language_info": {
            "file_extension": ".jl",
            "mimetype": "application/julia",
            "name": "julia",
            "version": "1.3.0"
        }
    },
    "nbformat": 4,
    "nbformat_minor": 2
}